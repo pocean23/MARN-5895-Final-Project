{
 "cells": [
  {
   "cell_type": "code",
   "execution_count": 1,
   "id": "1606a2e1-d671-4371-87c2-6e5f5fd3da8c",
   "metadata": {},
   "outputs": [],
   "source": [
    "import xarray as xr\n",
    "import matplotlib.pyplot as plt\n",
    "import numpy as np"
   ]
  },
  {
   "cell_type": "code",
   "execution_count": 42,
   "id": "3d7c1cce-e143-4dc3-aeac-d98303b5bb50",
   "metadata": {},
   "outputs": [],
   "source": [
    "wind = xr.open_dataset('/home/pab21003/class_marn5895/Final_Project/Data/ERA5_wind.nc')\n",
    "u = xr.open_dataset('/home/pab21003/class_marn5895/Final_Project/Data/OSCAR_zonal_current_2015.nc')\n",
    "v = xr.open_dataset('/home/pab21003/class_marn5895/Final_Project/Data/OSCAR_meridional_current_2015.nc')\n",
    "chl = xr.open_dataset('/home/pab21003/class_marn5895/Final_Project/Data/dataset-oc-glo-bio-multi-l4-chl_4km_monthly-rep_1637967441442.nc')\n",
    "ssh = xr.open_dataset('/home/pab21003/class_marn5895/Final_Project/Data/dataset-duacs-rep-global-merged-allsat-phy-l4-monthly_1637960787662.nc')"
   ]
  },
  {
   "cell_type": "code",
   "execution_count": 43,
   "id": "602cc867-11dd-48de-ac2d-e0554f5cc81d",
   "metadata": {},
   "outputs": [],
   "source": [
    "windspeed = np.sqrt(wind.u10**2 + wind.v10**2)"
   ]
  },
  {
   "cell_type": "code",
   "execution_count": 44,
   "id": "28984675-dc6c-48a9-9b26-74ac6b269ea2",
   "metadata": {},
   "outputs": [],
   "source": [
    "surf_current_speed = np.sqrt(u.U**2 + v.V**2)"
   ]
  },
  {
   "cell_type": "code",
   "execution_count": 45,
   "id": "92e81fb2-8da1-4d91-8f01-e0d779bd8e55",
   "metadata": {},
   "outputs": [],
   "source": [
    "windspeed = windspeed.sel(longitude=slice(140,260),latitude=slice(30,-30))"
   ]
  },
  {
   "cell_type": "code",
   "execution_count": 46,
   "id": "57246047-e257-4288-bd43-94ad6e711a7c",
   "metadata": {},
   "outputs": [],
   "source": [
    "surf_current_speed = surf_current_speed.sel(LON1_1021=slice(140,260),LAT=slice(-30,30))"
   ]
  },
  {
   "cell_type": "code",
   "execution_count": null,
   "id": "41e818b8-cfc1-44ef-bc9b-971fc945a7f2",
   "metadata": {},
   "outputs": [],
   "source": []
  },
  {
   "cell_type": "code",
   "execution_count": 47,
   "id": "c392467c-1957-4866-99ef-7d618e08db3c",
   "metadata": {},
   "outputs": [],
   "source": [
    "ssh = ssh.sel(longitude=slice(140,260),latitude=slice(-30,30))"
   ]
  },
  {
   "cell_type": "code",
   "execution_count": null,
   "id": "8376b430-6016-44eb-bb86-1368e261ddbf",
   "metadata": {},
   "outputs": [],
   "source": [
    "### Resample every month\n",
    "### and plot the January month "
   ]
  }
 ],
 "metadata": {
  "kernelspec": {
   "display_name": "Python 3 (ipykernel)",
   "language": "python",
   "name": "python3"
  },
  "language_info": {
   "codemirror_mode": {
    "name": "ipython",
    "version": 3
   },
   "file_extension": ".py",
   "mimetype": "text/x-python",
   "name": "python",
   "nbconvert_exporter": "python",
   "pygments_lexer": "ipython3",
   "version": "3.9.6"
  }
 },
 "nbformat": 4,
 "nbformat_minor": 5
}
